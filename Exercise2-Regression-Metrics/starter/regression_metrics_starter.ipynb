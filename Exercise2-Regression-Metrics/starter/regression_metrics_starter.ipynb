{
 "cells": [
  {
   "cell_type": "markdown",
   "id": "8b0ad0bb-882e-47cf-98bc-6897fa563fc3",
   "metadata": {},
   "source": [
    "# Regression Metrics\n",
    "\n",
    "During the course of this notebook, you will calculate MSE and $R^2$ metrics for a linear regression model."
   ]
  },
  {
   "cell_type": "code",
   "execution_count": null,
   "id": "fa11af96-4d4e-4834-96e2-cfdcf8063b87",
   "metadata": {},
   "outputs": [],
   "source": [
    "from sklearn.datasets import load_linnerud\n",
    "from sklearn.linear_model import LinearRegression\n",
    "import matplotlib.pyplot as plt\n",
    "import pandas as pd"
   ]
  },
  {
   "cell_type": "markdown",
   "id": "6bd602c0-230a-4f74-bd1b-820d007df108",
   "metadata": {},
   "source": [
    "## Dataset Setup\n",
    "\n",
    "In the cell below, we load the Linnerud dataset ([documentation here](https://scikit-learn.org/stable/datasets/toy_dataset.html#linnerrud-dataset)), a toy dataset from scikit-learn containing exercise and physiological data points."
   ]
  },
  {
   "cell_type": "code",
   "execution_count": null,
   "id": "c681fd7c-a9b4-4e3b-90ad-a95643f1bcef",
   "metadata": {},
   "outputs": [],
   "source": [
    "linnerud = load_linnerud()\n",
    "\n",
    "features = pd.DataFrame(data=linnerud.data, columns=linnerud.feature_names)\n",
    "targets = pd.DataFrame(data=linnerud.target, columns=linnerud.target_names)"
   ]
  },
  {
   "cell_type": "code",
   "execution_count": null,
   "id": "505a43d6-26c2-4f76-aa11-c480a1c0a1e2",
   "metadata": {},
   "outputs": [],
   "source": [
    "features"
   ]
  },
  {
   "cell_type": "code",
   "execution_count": null,
   "id": "8c2f5c37-e307-46f4-aea4-410b4c575a55",
   "metadata": {},
   "outputs": [],
   "source": [
    "targets[\"Weight\"]"
   ]
  },
  {
   "cell_type": "code",
   "execution_count": null,
   "id": "1bb524e5-654a-4836-94ee-f528e19205dc",
   "metadata": {},
   "outputs": [],
   "source": [
    "# Visualize the relationship using a scatterplot\n",
    "\n",
    "fig, ax = plt.subplots()\n",
    "ax.scatter(features[\"Situps\"], targets[\"Weight\"], alpha=0.75)\n",
    "ax.set_title(\"Visualizing the Relationship Between Situps and Weight\")\n",
    "ax.set_xlabel(\"Situps\")\n",
    "ax.set_ylabel(\"Weight\");"
   ]
  },
  {
   "cell_type": "markdown",
   "id": "c82bc607-bf81-4063-a875-22a65ce5eae6",
   "metadata": {},
   "source": [
    "## Training a Regressor\n",
    "\n",
    "Next, we train a linear regression model ([documentation here](https://scikit-learn.org/stable/modules/generated/sklearn.linear_model.LinearRegression.html)) using our `features` and `targets['Weight']` data."
   ]
  },
  {
   "cell_type": "code",
   "execution_count": null,
   "id": "636c9b04-3aea-47b8-8934-b422a62168aa",
   "metadata": {},
   "outputs": [],
   "source": [
    "reg = LinearRegression().fit(features, targets['Weight'])"
   ]
  },
  {
   "cell_type": "markdown",
   "id": "bcc2678d-c427-4493-9984-64d9936bcda9",
   "metadata": {},
   "source": [
    "## Your Task: Calculate Regression Metrics\n",
    "\n",
    "Generate predictions, then calculate the following regression metrics:\n",
    "\n",
    "1. MSE ([documentation here](https://scikit-learn.org/stable/modules/generated/sklearn.metrics.mean_squared_error.html))\n",
    "2. $R^2$ ([documentation here](https://scikit-learn.org/stable/modules/generated/sklearn.metrics.r2_score.html))"
   ]
  },
  {
   "cell_type": "code",
   "execution_count": null,
   "id": "e908f592-4df2-47fc-acff-aa11d80b92a6",
   "metadata": {},
   "outputs": [],
   "source": [
    "# TODO: get predictions for features\n"
   ]
  },
  {
   "cell_type": "code",
   "execution_count": null,
   "id": "58819122-6f7a-447a-9091-9c6de02eccd6",
   "metadata": {},
   "outputs": [],
   "source": [
    "# TODO: import MSE metric\n",
    "\n",
    "\n",
    "# TODO: calculate MSE for predictions\n"
   ]
  },
  {
   "cell_type": "code",
   "execution_count": null,
   "id": "ded7ec81-58b1-49c0-bb7e-a96bda0d0569",
   "metadata": {},
   "outputs": [],
   "source": [
    "# TODO: import r2 metric\n",
    "\n",
    "\n",
    "# TODO: calculate r2 for predictions\n"
   ]
  },
  {
   "cell_type": "code",
   "execution_count": null,
   "id": "918340fd-42bc-472b-ba9f-fd2cb57bc3d4",
   "metadata": {},
   "outputs": [],
   "source": []
  }
 ],
 "metadata": {
  "kernelspec": {
   "display_name": "Python 3 (ipykernel)",
   "language": "python",
   "name": "python3"
  },
  "language_info": {
   "codemirror_mode": {
    "name": "ipython",
    "version": 3
   },
   "file_extension": ".py",
   "mimetype": "text/x-python",
   "name": "python",
   "nbconvert_exporter": "python",
   "pygments_lexer": "ipython3",
   "version": "3.10.13"
  }
 },
 "nbformat": 4,
 "nbformat_minor": 5
}
